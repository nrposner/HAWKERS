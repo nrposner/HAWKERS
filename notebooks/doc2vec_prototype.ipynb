{
 "cells": [
  {
   "cell_type": "code",
   "execution_count": 28,
   "id": "646e3ec0",
   "metadata": {},
   "outputs": [
    {
     "name": "stderr",
     "output_type": "stream",
     "text": [
      "[nltk_data] Downloading package punkt to /Users/nicol/nltk_data...\n",
      "[nltk_data]   Package punkt is already up-to-date!\n"
     ]
    },
    {
     "data": {
      "text/plain": [
       "True"
      ]
     },
     "execution_count": 28,
     "metadata": {},
     "output_type": "execute_result"
    }
   ],
   "source": [
    "import numpy as np\n",
    "import pandas as pd\n",
    "import gensim \n",
    "from gensim import models\n",
    "from gensim.models.doc2vec import Doc2Vec, TaggedDocument\n",
    "from collections import defaultdict\n",
    "import nltk\n",
    "nltk.download('punkt')"
   ]
  },
  {
   "cell_type": "code",
   "execution_count": 29,
   "id": "43345e07",
   "metadata": {},
   "outputs": [],
   "source": [
    "queries = pd.read_csv(\"query_df.csv\")\n",
    "all_queries = queries[\"query\"].values\n",
    "tags = queries[\"tag\"].values\n",
    "test_corpus = pd.read_csv(\"test_corpus.csv\")[\"docs\"].values"
   ]
  },
  {
   "cell_type": "code",
   "execution_count": 30,
   "id": "4536ed9d",
   "metadata": {},
   "outputs": [],
   "source": [
    "def tokenize_text(text):\n",
    "    tokens = []\n",
    "    for sent in nltk.sent_tokenize(text):\n",
    "        for word in nltk.word_tokenize(sent):\n",
    "            if len(word) < 2:\n",
    "                continue\n",
    "            tokens.append(word.lower())\n",
    "    return tokens\n",
    "\n",
    "def d2v_classifier(train_docs:np.ndarray, classes:np.ndarray, test_docs:np.ndarray, topn:int = 5, workers=1, vector_size = 4, epochs=20, dm=1):\n",
    "    \"\"\"\n",
    "    \n",
    "    \"\"\"\n",
    "    \n",
    "    train_data = pd.DataFrame({\"docs\": train_docs, \"tag\":classes})\n",
    "    train_tagged = train_data.apply(\n",
    "        lambda r: TaggedDocument(words=tokenize_text(r['docs']), tags=[r.tag]), axis=1)\n",
    "    \n",
    "    trainsent = train_tagged.values\n",
    "    \n",
    "    doc2vec_model = Doc2Vec(trainsent, workers=workers, vector_size=vector_size, epochs=epochs, dm=dm)\n",
    "    \n",
    "    train_targets, train_regressors = zip(\n",
    "        *[(doc.tags[0], doc2vec_model.infer_vector(doc.words)) for doc in trainsent])\n",
    "    \n",
    "    inferred_test_vectors = [doc2vec_model.infer_vector(doc.split()) for doc in test_docs]\n",
    "    \n",
    "    knn_test_predictions = [\n",
    "        doc2vec_model.docvecs.most_similar([pred_vec], topn=topn)[0][0]\n",
    "        for pred_vec in inferred_test_vectors\n",
    "    ]\n",
    "    \n",
    "    predictions = pd.DataFrame({\"doc\":test_docs, \"class\": knn_test_predictions})\n",
    "    \n",
    "    return predictions"
   ]
  },
  {
   "cell_type": "code",
   "execution_count": 31,
   "id": "acda4569",
   "metadata": {},
   "outputs": [
    {
     "name": "stdout",
     "output_type": "stream",
     "text": [
      "CPU times: user 2.7 s, sys: 10 ms, total: 2.72 s\n",
      "Wall time: 2.72 s\n"
     ]
    },
    {
     "name": "stderr",
     "output_type": "stream",
     "text": [
      "/var/folders/42/zns6mz5s5hl_ztjh8th2nnqr0000gn/T/ipykernel_53874/2632625881.py:29: DeprecationWarning: Call to deprecated `docvecs` (The `docvecs` property has been renamed `dv`.).\n",
      "  doc2vec_model.docvecs.most_similar([pred_vec], topn=topn)[0][0]\n"
     ]
    },
    {
     "data": {
      "text/html": [
       "<div>\n",
       "<style scoped>\n",
       "    .dataframe tbody tr th:only-of-type {\n",
       "        vertical-align: middle;\n",
       "    }\n",
       "\n",
       "    .dataframe tbody tr th {\n",
       "        vertical-align: top;\n",
       "    }\n",
       "\n",
       "    .dataframe thead th {\n",
       "        text-align: right;\n",
       "    }\n",
       "</style>\n",
       "<table border=\"1\" class=\"dataframe\">\n",
       "  <thead>\n",
       "    <tr style=\"text-align: right;\">\n",
       "      <th></th>\n",
       "      <th>doc</th>\n",
       "      <th>class</th>\n",
       "    </tr>\n",
       "  </thead>\n",
       "  <tbody>\n",
       "    <tr>\n",
       "      <th>0</th>\n",
       "      <td>Correct for summer and the beach</td>\n",
       "      <td>Mixed</td>\n",
       "    </tr>\n",
       "    <tr>\n",
       "      <th>1</th>\n",
       "      <td>Fast service, good quality for price</td>\n",
       "      <td>Delivery Service</td>\n",
       "    </tr>\n",
       "    <tr>\n",
       "      <th>2</th>\n",
       "      <td>Always fantastic</td>\n",
       "      <td>Mixed</td>\n",
       "    </tr>\n",
       "    <tr>\n",
       "      <th>3</th>\n",
       "      <td>All very well</td>\n",
       "      <td>Product Quality</td>\n",
       "    </tr>\n",
       "    <tr>\n",
       "      <th>4</th>\n",
       "      <td>All perfect</td>\n",
       "      <td>Mixed</td>\n",
       "    </tr>\n",
       "    <tr>\n",
       "      <th>...</th>\n",
       "      <td>...</td>\n",
       "      <td>...</td>\n",
       "    </tr>\n",
       "    <tr>\n",
       "      <th>14661</th>\n",
       "      <td>Everything very ok quality and service of 10 I...</td>\n",
       "      <td>Product Quality</td>\n",
       "    </tr>\n",
       "    <tr>\n",
       "      <th>14662</th>\n",
       "      <td>Brilliant! I love these glasses. I have ordere...</td>\n",
       "      <td>Product Quality</td>\n",
       "    </tr>\n",
       "    <tr>\n",
       "      <th>14663</th>\n",
       "      <td>The price is good but some glasses arrived wit...</td>\n",
       "      <td>Delivery Service</td>\n",
       "    </tr>\n",
       "    <tr>\n",
       "      <th>14664</th>\n",
       "      <td>2 time I order and incredible</td>\n",
       "      <td>Customer Service</td>\n",
       "    </tr>\n",
       "    <tr>\n",
       "      <th>14665</th>\n",
       "      <td>I bought others at AC and for much less $ they...</td>\n",
       "      <td>Delivery Service</td>\n",
       "    </tr>\n",
       "  </tbody>\n",
       "</table>\n",
       "<p>14666 rows × 2 columns</p>\n",
       "</div>"
      ],
      "text/plain": [
       "                                                     doc             class\n",
       "0                       Correct for summer and the beach             Mixed\n",
       "1                   Fast service, good quality for price  Delivery Service\n",
       "2                                       Always fantastic             Mixed\n",
       "3                                          All very well   Product Quality\n",
       "4                                            All perfect             Mixed\n",
       "...                                                  ...               ...\n",
       "14661  Everything very ok quality and service of 10 I...   Product Quality\n",
       "14662  Brilliant! I love these glasses. I have ordere...   Product Quality\n",
       "14663  The price is good but some glasses arrived wit...  Delivery Service\n",
       "14664                      2 time I order and incredible  Customer Service\n",
       "14665  I bought others at AC and for much less $ they...  Delivery Service\n",
       "\n",
       "[14666 rows x 2 columns]"
      ]
     },
     "execution_count": 31,
     "metadata": {},
     "output_type": "execute_result"
    }
   ],
   "source": [
    "%%time\n",
    "\n",
    "d2v_classifier(all_queries, tags, test_corpus)"
   ]
  }
 ],
 "metadata": {
  "kernelspec": {
   "display_name": "Python 3 (ipykernel)",
   "language": "python",
   "name": "python3"
  },
  "language_info": {
   "codemirror_mode": {
    "name": "ipython",
    "version": 3
   },
   "file_extension": ".py",
   "mimetype": "text/x-python",
   "name": "python",
   "nbconvert_exporter": "python",
   "pygments_lexer": "ipython3",
   "version": "3.9.18"
  }
 },
 "nbformat": 4,
 "nbformat_minor": 5
}
